{
 "cells": [
  {
   "cell_type": "markdown",
   "metadata": {},
   "source": [
    "## MNIST picture generation using Generative Adversarial Networks \n",
    "\n",
    "In this notebook I will be demostrating the famous generative adversarial networks. I will be generating pictures from MNIST dataset using GAN. "
   ]
  },
  {
   "cell_type": "markdown",
   "metadata": {},
   "source": [
    "### Basic Imports "
   ]
  },
  {
   "cell_type": "code",
   "execution_count": 1,
   "metadata": {},
   "outputs": [
    {
     "name": "stderr",
     "output_type": "stream",
     "text": [
      "C:\\Users\\ambar\\Anaconda3\\envs\\tensorflow\\lib\\site-packages\\h5py\\__init__.py:36: FutureWarning: Conversion of the second argument of issubdtype from `float` to `np.floating` is deprecated. In future, it will be treated as `np.float64 == np.dtype(float).type`.\n",
      "  from ._conv import register_converters as _register_converters\n"
     ]
    }
   ],
   "source": [
    "import tensorflow as tf\n",
    "import numpy as np\n",
    "import matplotlib.pyplot as plt\n",
    "%matplotlib inline"
   ]
  },
  {
   "cell_type": "markdown",
   "metadata": {},
   "source": [
    "### Loading the data "
   ]
  },
  {
   "cell_type": "code",
   "execution_count": 3,
   "metadata": {},
   "outputs": [
    {
     "name": "stdout",
     "output_type": "stream",
     "text": [
      "Extracting ../MNIST_data/train-images-idx3-ubyte.gz\n",
      "Extracting ../MNIST_data/train-labels-idx1-ubyte.gz\n",
      "Extracting ../MNIST_data/t10k-images-idx3-ubyte.gz\n",
      "Extracting ../MNIST_data/t10k-labels-idx1-ubyte.gz\n"
     ]
    }
   ],
   "source": [
    "from tensorflow.examples.tutorials.mnist import input_data\n",
    "mnist = input_data.read_data_sets(\"../MNIST_data/\",one_hot=True)"
   ]
  },
  {
   "cell_type": "markdown",
   "metadata": {},
   "source": [
    "### Ploting a sample image "
   ]
  },
  {
   "cell_type": "code",
   "execution_count": 4,
   "metadata": {},
   "outputs": [
    {
     "data": {
      "text/plain": [
       "<matplotlib.image.AxesImage at 0x1e9cbb11ac8>"
      ]
     },
     "execution_count": 4,
     "metadata": {},
     "output_type": "execute_result"
    },
    {
     "data": {
      "image/png": "[encoded data removed]",
      "text/plain": [
       "<Figure size 432x288 with 1 Axes>"
      ]
     },
     "metadata": {},
     "output_type": "display_data"
    }
   ],
   "source": [
    "plt.imshow(mnist.train.images[14].reshape(28,28),cmap='Greys')"
   ]
  },
  {
   "cell_type": "markdown",
   "metadata": {},
   "source": [
    "### Setting up GAN"
   ]
  },
  {
   "cell_type": "markdown",
   "metadata": {},
   "source": [
    "### Generator Network"
   ]
  },
  {
   "cell_type": "code",
   "execution_count": 5,
   "metadata": {},
   "outputs": [],
   "source": [
    "def generator(z,reuse=None):\n",
    "    with tf.variable_scope('gen',reuse=reuse):\n",
    "        hidden_1 = tf.layers.dense(inputs=z,units=128)\n",
    "        # Leaky Relu\n",
    "        # I am just manually creating the leaky relu activation function \n",
    "        alpha = 0.01\n",
    "        hidden_1 = tf.maximum(alpha*hidden_1,hidden_1)\n",
    "        \n",
    "        hidden_2 = tf.layers.dense(inputs=hidden_1,units=128)\n",
    "        \n",
    "        hidden_2 = tf.maximum(alpha*hidden_2,hidden_2)\n",
    "        \n",
    "        output = tf.layers.dense(hidden_2,units=784,activation=tf.nn.tanh)\n",
    "        return output"
   ]
  },
  {
   "cell_type": "markdown",
   "metadata": {},
   "source": [
    "### Discriminator Network"
   ]
  },
  {
   "cell_type": "code",
   "execution_count": 6,
   "metadata": {},
   "outputs": [],
   "source": [
    "def discriminator(X,reuse=None):\n",
    "    with tf.variable_scope('dis',reuse=reuse):\n",
    "        hidden_1 = tf.layers.dense(inputs=X,units=128)\n",
    "        # Leaky Relu\n",
    "        # Manual leaky relu like above \n",
    "        alpha = 0.01\n",
    "        hidden_1 = tf.maximum(alpha*hidden_1,hidden_1)\n",
    "        \n",
    "        hidden_2 = tf.layers.dense(inputs=hidden_1,units=128)\n",
    "        hidden_2 = tf.maximum(alpha*hidden_2,hidden_2)\n",
    "        \n",
    "        logits = tf.layers.dense(hidden_2,units=1)\n",
    "        output = tf.sigmoid(logits)\n",
    "    \n",
    "        return output, logits"
   ]
  },
  {
   "cell_type": "markdown",
   "metadata": {},
   "source": [
    "### Placeholders"
   ]
  },
  {
   "cell_type": "code",
   "execution_count": 7,
   "metadata": {},
   "outputs": [],
   "source": [
    "real_images = tf.placeholder(tf.float32,shape=[None,784])\n",
    "z = tf.placeholder(tf.float32,shape=[None,100])"
   ]
  },
  {
   "cell_type": "markdown",
   "metadata": {},
   "source": [
    "### Generator"
   ]
  },
  {
   "cell_type": "code",
   "execution_count": 8,
   "metadata": {},
   "outputs": [],
   "source": [
    "Gen = generator(z)"
   ]
  },
  {
   "cell_type": "markdown",
   "metadata": {},
   "source": [
    "### Discriminator"
   ]
  },
  {
   "cell_type": "code",
   "execution_count": 9,
   "metadata": {},
   "outputs": [],
   "source": [
    "Dis_out_real, Dis_logits_real = discriminator(real_images)"
   ]
  },
  {
   "cell_type": "code",
   "execution_count": 10,
   "metadata": {},
   "outputs": [],
   "source": [
    "Dis_out_genrated, Dis_logits_generated = discriminator(Gen,reuse=True)"
   ]
  },
  {
   "cell_type": "markdown",
   "metadata": {},
   "source": [
    "The discriminator, which is trained on real images is asked to distinguish bewteen the generated images from the generator and the real images. "
   ]
  },
  {
   "cell_type": "markdown",
   "metadata": {},
   "source": [
    "### Losses"
   ]
  },
  {
   "cell_type": "code",
   "execution_count": 11,
   "metadata": {},
   "outputs": [],
   "source": [
    "def loss_func(logits_in,labels_in):\n",
    "    return tf.reduce_mean(tf.nn.sigmoid_cross_entropy_with_logits(logits=logits_in,labels=labels_in))"
   ]
  },
  {
   "cell_type": "code",
   "execution_count": 12,
   "metadata": {},
   "outputs": [],
   "source": [
    "Dis_real_loss = loss_func(Dis_logits_real,tf.ones_like(Dis_logits_real)* (0.9))"
   ]
  },
  {
   "cell_type": "code",
   "execution_count": 13,
   "metadata": {},
   "outputs": [],
   "source": [
    "Dis_genrated_loss = loss_func(Dis_logits_generated,tf.zeros_like(Dis_logits_real))"
   ]
  },
  {
   "cell_type": "code",
   "execution_count": 14,
   "metadata": {},
   "outputs": [],
   "source": [
    "Dis_loss = Dis_real_loss + Dis_genrated_loss"
   ]
  },
  {
   "cell_type": "code",
   "execution_count": 15,
   "metadata": {},
   "outputs": [],
   "source": [
    "Gen_loss = loss_func(Dis_logits_generated,tf.ones_like(Dis_logits_generated))"
   ]
  },
  {
   "cell_type": "markdown",
   "metadata": {},
   "source": [
    "### Optimizers"
   ]
  },
  {
   "cell_type": "code",
   "execution_count": 16,
   "metadata": {},
   "outputs": [],
   "source": [
    "learning_rate = 0.001"
   ]
  },
  {
   "cell_type": "code",
   "execution_count": 17,
   "metadata": {},
   "outputs": [
    {
     "name": "stdout",
     "output_type": "stream",
     "text": [
      "['dis/dense/kernel:0', 'dis/dense/bias:0', 'dis/dense_1/kernel:0', 'dis/dense_1/bias:0', 'dis/dense_2/kernel:0', 'dis/dense_2/bias:0']\n",
      "['gen/dense/kernel:0', 'gen/dense/bias:0', 'gen/dense_1/kernel:0', 'gen/dense_1/bias:0', 'gen/dense_2/kernel:0', 'gen/dense_2/bias:0']\n"
     ]
    }
   ],
   "source": [
    "tvars = tf.trainable_variables()\n",
    "\n",
    "dis_vars = [var for var in tvars if 'dis' in var.name]\n",
    "gen_vars = [var for var in tvars if 'gen' in var.name]\n",
    "\n",
    "print([v.name for v in dis_vars])\n",
    "print([v.name for v in gen_vars])"
   ]
  },
  {
   "cell_type": "code",
   "execution_count": 18,
   "metadata": {},
   "outputs": [],
   "source": [
    "Dis_trainer = tf.train.AdamOptimizer(learning_rate).minimize(Dis_loss, var_list=dis_vars)\n",
    "Gen_trainer = tf.train.AdamOptimizer(learning_rate).minimize(Gen_loss, var_list=gen_vars)"
   ]
  },
  {
   "cell_type": "markdown",
   "metadata": {},
   "source": [
    "### Training"
   ]
  },
  {
   "cell_type": "code",
   "execution_count": 19,
   "metadata": {},
   "outputs": [],
   "source": [
    "batch_size = 64\n",
    "epochs = 300\n",
    "init = tf.global_variables_initializer()\n",
    "saver = tf.train.Saver(var_list=gen_vars)"
   ]
  },
  {
   "cell_type": "code",
   "execution_count": 20,
   "metadata": {},
   "outputs": [],
   "source": [
    "# Save a sample per epoch\n",
    "samples = []"
   ]
  },
  {
   "cell_type": "code",
   "execution_count": 21,
   "metadata": {},
   "outputs": [
    {
     "name": "stdout",
     "output_type": "stream",
     "text": [
      "Epoch 1 of 300 \n",
      "Epoch 2 of 300 \n",
      "Epoch 3 of 300 \n",
      "Epoch 4 of 300 \n",
      "Epoch 5 of 300 \n",
      "Epoch 6 of 300 \n",
      "Epoch 7 of 300 \n",
      "Epoch 8 of 300 \n",
      "Epoch 9 of 300 \n",
      "Epoch 10 of 300 \n",
      "Epoch 11 of 300 \n",
      "Epoch 12 of 300 \n",
      "Epoch 13 of 300 \n",
      "Epoch 14 of 300 \n",
      "Epoch 15 of 300 \n",
      "Epoch 16 of 300 \n",
      "Epoch 17 of 300 \n",
      "Epoch 18 of 300 \n",
      "Epoch 19 of 300 \n",
      "Epoch 20 of 300 \n",
      "Epoch 21 of 300 \n",
      "Epoch 22 of 300 \n",
      "Epoch 23 of 300 \n",
      "Epoch 24 of 300 \n",
      "Epoch 25 of 300 \n",
      "Epoch 26 of 300 \n",
      "Epoch 27 of 300 \n",
      "Epoch 28 of 300 \n",
      "Epoch 29 of 300 \n",
      "Epoch 30 of 300 \n",
      "Epoch 31 of 300 \n",
      "Epoch 32 of 300 \n",
      "Epoch 33 of 300 \n",
      "Epoch 34 of 300 \n",
      "Epoch 35 of 300 \n",
      "Epoch 36 of 300 \n",
      "Epoch 37 of 300 \n",
      "Epoch 38 of 300 \n",
      "Epoch 39 of 300 \n",
      "Epoch 40 of 300 \n",
      "Epoch 41 of 300 \n",
      "Epoch 42 of 300 \n",
      "Epoch 43 of 300 \n",
      "Epoch 44 of 300 \n",
      "Epoch 45 of 300 \n",
      "Epoch 46 of 300 \n",
      "Epoch 47 of 300 \n",
      "Epoch 48 of 300 \n",
      "Epoch 49 of 300 \n",
      "Epoch 50 of 300 \n",
      "Epoch 51 of 300 \n",
      "Epoch 52 of 300 \n",
      "Epoch 53 of 300 \n",
      "Epoch 54 of 300 \n",
      "Epoch 55 of 300 \n",
      "Epoch 56 of 300 \n",
      "Epoch 57 of 300 \n",
      "Epoch 58 of 300 \n",
      "Epoch 59 of 300 \n",
      "Epoch 60 of 300 \n",
      "Epoch 61 of 300 \n",
      "Epoch 62 of 300 \n",
      "Epoch 63 of 300 \n",
      "Epoch 64 of 300 \n",
      "Epoch 65 of 300 \n",
      "Epoch 66 of 300 \n",
      "Epoch 67 of 300 \n",
      "Epoch 68 of 300 \n",
      "Epoch 69 of 300 \n",
      "Epoch 70 of 300 \n",
      "Epoch 71 of 300 \n",
      "Epoch 72 of 300 \n",
      "Epoch 73 of 300 \n",
      "Epoch 74 of 300 \n",
      "Epoch 75 of 300 \n",
      "Epoch 76 of 300 \n",
      "Epoch 77 of 300 \n",
      "Epoch 78 of 300 \n",
      "Epoch 79 of 300 \n",
      "Epoch 80 of 300 \n",
      "Epoch 81 of 300 \n",
      "Epoch 82 of 300 \n",
      "Epoch 83 of 300 \n",
      "Epoch 84 of 300 \n",
      "Epoch 85 of 300 \n",
      "Epoch 86 of 300 \n",
      "Epoch 87 of 300 \n",
      "Epoch 88 of 300 \n",
      "Epoch 89 of 300 \n",
      "Epoch 90 of 300 \n",
      "Epoch 91 of 300 \n",
      "Epoch 92 of 300 \n",
      "Epoch 93 of 300 \n",
      "Epoch 94 of 300 \n",
      "Epoch 95 of 300 \n",
      "Epoch 96 of 300 \n",
      "Epoch 97 of 300 \n",
      "Epoch 98 of 300 \n",
      "Epoch 99 of 300 \n",
      "Epoch 100 of 300 \n",
      "Epoch 101 of 300 \n",
      "Epoch 102 of 300 \n",
      "Epoch 103 of 300 \n",
      "Epoch 104 of 300 \n",
      "Epoch 105 of 300 \n",
      "Epoch 106 of 300 \n",
      "Epoch 107 of 300 \n",
      "Epoch 108 of 300 \n",
      "Epoch 109 of 300 \n",
      "Epoch 110 of 300 \n",
      "Epoch 111 of 300 \n",
      "Epoch 112 of 300 \n",
      "Epoch 113 of 300 \n",
      "Epoch 114 of 300 \n",
      "Epoch 115 of 300 \n",
      "Epoch 116 of 300 \n",
      "Epoch 117 of 300 \n",
      "Epoch 118 of 300 \n",
      "Epoch 119 of 300 \n",
      "Epoch 120 of 300 \n",
      "Epoch 121 of 300 \n",
      "Epoch 122 of 300 \n",
      "Epoch 123 of 300 \n",
      "Epoch 124 of 300 \n",
      "Epoch 125 of 300 \n",
      "Epoch 126 of 300 \n",
      "Epoch 127 of 300 \n",
      "Epoch 128 of 300 \n",
      "Epoch 129 of 300 \n",
      "Epoch 130 of 300 \n",
      "Epoch 131 of 300 \n",
      "Epoch 132 of 300 \n",
      "Epoch 133 of 300 \n",
      "Epoch 134 of 300 \n",
      "Epoch 135 of 300 \n",
      "Epoch 136 of 300 \n",
      "Epoch 137 of 300 \n",
      "Epoch 138 of 300 \n",
      "Epoch 139 of 300 \n",
      "Epoch 140 of 300 \n",
      "Epoch 141 of 300 \n",
      "Epoch 142 of 300 \n",
      "Epoch 143 of 300 \n",
      "Epoch 144 of 300 \n",
      "Epoch 145 of 300 \n",
      "Epoch 146 of 300 \n",
      "Epoch 147 of 300 \n",
      "Epoch 148 of 300 \n",
      "Epoch 149 of 300 \n",
      "Epoch 150 of 300 \n",
      "Epoch 151 of 300 \n",
      "Epoch 152 of 300 \n",
      "Epoch 153 of 300 \n",
      "Epoch 154 of 300 \n",
      "Epoch 155 of 300 \n",
      "Epoch 156 of 300 \n",
      "Epoch 157 of 300 \n",
      "Epoch 158 of 300 \n",
      "Epoch 159 of 300 \n",
      "Epoch 160 of 300 \n",
      "Epoch 161 of 300 \n",
      "Epoch 162 of 300 \n",
      "Epoch 163 of 300 \n",
      "Epoch 164 of 300 \n",
      "Epoch 165 of 300 \n",
      "Epoch 166 of 300 \n",
      "Epoch 167 of 300 \n",
      "Epoch 168 of 300 \n",
      "Epoch 169 of 300 \n",
      "Epoch 170 of 300 \n",
      "Epoch 171 of 300 \n",
      "Epoch 172 of 300 \n",
      "Epoch 173 of 300 \n",
      "Epoch 174 of 300 \n",
      "Epoch 175 of 300 \n",
      "Epoch 176 of 300 \n",
      "Epoch 177 of 300 \n",
      "Epoch 178 of 300 \n",
      "Epoch 179 of 300 \n",
      "Epoch 180 of 300 \n",
      "Epoch 181 of 300 \n",
      "Epoch 182 of 300 \n",
      "Epoch 183 of 300 \n",
      "Epoch 184 of 300 \n",
      "Epoch 185 of 300 \n",
      "Epoch 186 of 300 \n",
      "Epoch 187 of 300 \n",
      "Epoch 188 of 300 \n",
      "Epoch 189 of 300 \n",
      "Epoch 190 of 300 \n",
      "Epoch 191 of 300 \n",
      "Epoch 192 of 300 \n",
      "Epoch 193 of 300 \n",
      "Epoch 194 of 300 \n",
      "Epoch 195 of 300 \n",
      "Epoch 196 of 300 \n",
      "Epoch 197 of 300 \n",
      "Epoch 198 of 300 \n",
      "Epoch 199 of 300 \n",
      "Epoch 200 of 300 \n",
      "Epoch 201 of 300 \n",
      "Epoch 202 of 300 \n",
      "Epoch 203 of 300 \n",
      "Epoch 204 of 300 \n",
      "Epoch 205 of 300 \n",
      "Epoch 206 of 300 \n",
      "Epoch 207 of 300 \n",
      "Epoch 208 of 300 \n",
      "Epoch 209 of 300 \n",
      "Epoch 210 of 300 \n",
      "Epoch 211 of 300 \n",
      "Epoch 212 of 300 \n",
      "Epoch 213 of 300 \n",
      "Epoch 214 of 300 \n",
      "Epoch 215 of 300 \n",
      "Epoch 216 of 300 \n",
      "Epoch 217 of 300 \n",
      "Epoch 218 of 300 \n",
      "Epoch 219 of 300 \n",
      "Epoch 220 of 300 \n",
      "Epoch 221 of 300 \n",
      "Epoch 222 of 300 \n",
      "Epoch 223 of 300 \n",
      "Epoch 224 of 300 \n",
      "Epoch 225 of 300 \n",
      "Epoch 226 of 300 \n",
      "Epoch 227 of 300 \n",
      "Epoch 228 of 300 \n",
      "Epoch 229 of 300 \n",
      "Epoch 230 of 300 \n",
      "Epoch 231 of 300 \n",
      "Epoch 232 of 300 \n",
      "Epoch 233 of 300 \n",
      "Epoch 234 of 300 \n",
      "Epoch 235 of 300 \n",
      "Epoch 236 of 300 \n",
      "Epoch 237 of 300 \n",
      "Epoch 238 of 300 \n",
      "Epoch 239 of 300 \n",
      "Epoch 240 of 300 \n",
      "Epoch 241 of 300 \n",
      "Epoch 242 of 300 \n",
      "Epoch 243 of 300 \n",
      "Epoch 244 of 300 \n",
      "Epoch 245 of 300 \n",
      "Epoch 246 of 300 \n",
      "Epoch 247 of 300 \n",
      "Epoch 248 of 300 \n",
      "Epoch 249 of 300 \n",
      "Epoch 250 of 300 \n",
      "Epoch 251 of 300 \n",
      "Epoch 252 of 300 \n",
      "Epoch 253 of 300 \n",
      "Epoch 254 of 300 \n",
      "Epoch 255 of 300 \n",
      "Epoch 256 of 300 \n",
      "Epoch 257 of 300 \n",
      "Epoch 258 of 300 \n",
      "Epoch 259 of 300 \n",
      "Epoch 260 of 300 \n",
      "Epoch 261 of 300 \n",
      "Epoch 262 of 300 \n",
      "Epoch 263 of 300 \n",
      "Epoch 264 of 300 \n",
      "Epoch 265 of 300 \n",
      "Epoch 266 of 300 \n",
      "Epoch 267 of 300 \n",
      "Epoch 268 of 300 \n",
      "Epoch 269 of 300 \n",
      "Epoch 270 of 300 \n",
      "Epoch 271 of 300 \n",
      "Epoch 272 of 300 \n",
      "Epoch 273 of 300 \n",
      "Epoch 274 of 300 \n",
      "Epoch 275 of 300 \n",
      "Epoch 276 of 300 \n",
      "Epoch 277 of 300 \n",
      "Epoch 278 of 300 \n",
      "Epoch 279 of 300 \n",
      "Epoch 280 of 300 \n",
      "Epoch 281 of 300 \n",
      "Epoch 282 of 300 \n",
      "Epoch 283 of 300 \n",
      "Epoch 284 of 300 \n",
      "Epoch 285 of 300 \n",
      "Epoch 286 of 300 \n",
      "Epoch 287 of 300 \n",
      "Epoch 288 of 300 \n",
      "Epoch 289 of 300 \n",
      "Epoch 290 of 300 \n",
      "Epoch 291 of 300 \n",
      "Epoch 292 of 300 \n",
      "Epoch 293 of 300 \n",
      "Epoch 294 of 300 \n",
      "Epoch 295 of 300 \n",
      "Epoch 296 of 300 \n",
      "Epoch 297 of 300 \n",
      "Epoch 298 of 300 \n",
      "Epoch 299 of 300 \n",
      "Epoch 300 of 300 \n"
     ]
    }
   ],
   "source": [
    "with tf.Session() as sess:\n",
    "    \n",
    "    sess.run(init)\n",
    "    \n",
    "    \n",
    "    for e in range(epochs):\n",
    "        \n",
    "        num_batches = mnist.train.num_examples // batch_size\n",
    "        \n",
    "        for i in range(num_batches):\n",
    "            \n",
    "            # Grab batch of images\n",
    "            batch = mnist.train.next_batch(batch_size)\n",
    "            \n",
    "            # Get images, reshape and rescale to pass to D\n",
    "            batch_images = batch[0].reshape((batch_size, 784))\n",
    "            batch_images = batch_images*2 - 1\n",
    "            \n",
    "            # Z (random latent noise data for Generator)\n",
    "            # -1 to 1 because of tanh activation\n",
    "            batch_z = np.random.uniform(-1, 1, size=(batch_size, 100))\n",
    "            \n",
    "            # Run optimizers, no need to save outputs, we won't use them\n",
    "            _ = sess.run(Dis_trainer, feed_dict={real_images: batch_images, z: batch_z})\n",
    "            _ = sess.run(Gen_trainer, feed_dict={z: batch_z})\n",
    "        \n",
    "            \n",
    "        print(\"Epoch {} of {} \".format(e+1, epochs))\n",
    "        \n",
    "        # Sample from generator as we're training for viewing afterwards\n",
    "        sample_z = np.random.uniform(-1, 1, size=(1, 100))\n",
    "        gen_sample = sess.run(generator(z ,reuse=True),feed_dict={z: sample_z})\n",
    "        \n",
    "        samples.append(gen_sample)\n",
    "        \n",
    "    saver.save(sess, './gan_mnist_sample_1')"
   ]
  },
  {
   "cell_type": "markdown",
   "metadata": {},
   "source": [
    "### Generating new Images "
   ]
  },
  {
   "cell_type": "code",
   "execution_count": 22,
   "metadata": {},
   "outputs": [
    {
     "name": "stdout",
     "output_type": "stream",
     "text": [
      "INFO:tensorflow:Restoring parameters from ./gan_mnist_sample_1\n"
     ]
    }
   ],
   "source": [
    "saver = tf.train.Saver(var_list=gen_vars)\n",
    "new_samples = []\n",
    "with tf.Session() as sess:\n",
    "    \n",
    "    saver.restore(sess,'./gan_mnist_sample_1')\n",
    "    \n",
    "    for x in range(5):\n",
    "        sample_z = np.random.uniform(-1,1,size=(1,100))\n",
    "        gen_sample = sess.run(generator(z,reuse=True),feed_dict={z:sample_z})\n",
    "        \n",
    "        new_samples.append(gen_sample)"
   ]
  },
  {
   "cell_type": "code",
   "execution_count": 24,
   "metadata": {},
   "outputs": [
    {
     "data": {
      "text/plain": [
       "<matplotlib.image.AxesImage at 0x1e9d4380400>"
      ]
     },
     "execution_count": 24,
     "metadata": {},
     "output_type": "execute_result"
    },
    {
     "data": {
      "image/png": "[encoded data removed]",
      "text/plain": [
       "<Figure size 432x288 with 1 Axes>"
      ]
     },
     "metadata": {},
     "output_type": "display_data"
    }
   ],
   "source": [
    "plt.imshow(new_samples[0].reshape(28,28),cmap='Greys') # newly generated sample "
   ]
  },
  {
   "cell_type": "markdown",
   "metadata": {},
   "source": [
    "As we can see, the trained GAN does a decent job in generating new 'fake' images. "
   ]
  },
  {
   "cell_type": "code",
   "execution_count": null,
   "metadata": {},
   "outputs": [],
   "source": []
  },
  {
   "cell_type": "code",
   "execution_count": null,
   "metadata": {},
   "outputs": [],
   "source": []
  },
  {
   "cell_type": "code",
   "execution_count": null,
   "metadata": {},
   "outputs": [],
   "source": []
  },
  {
   "cell_type": "code",
   "execution_count": null,
   "metadata": {},
   "outputs": [],
   "source": []
  },
  {
   "cell_type": "code",
   "execution_count": null,
   "metadata": {},
   "outputs": [],
   "source": []
  },
  {
   "cell_type": "code",
   "execution_count": null,
   "metadata": {},
   "outputs": [],
   "source": []
  },
  {
   "cell_type": "code",
   "execution_count": null,
   "metadata": {},
   "outputs": [],
   "source": []
  }
 ],
 "metadata": {
  "kernelspec": {
   "display_name": "Python 3",
   "language": "python",
   "name": "python3"
  },
  "language_info": {
   "codemirror_mode": {
    "name": "ipython",
    "version": 3
   },
   "file_extension": ".py",
   "mimetype": "text/x-python",
   "name": "python",
   "nbconvert_exporter": "python",
   "pygments_lexer": "ipython3",
   "version": "3.6.5"
  }
 },
 "nbformat": 4,
 "nbformat_minor": 2
}
