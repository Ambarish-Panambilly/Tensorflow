{
 "cells": [
  {
   "cell_type": "markdown",
   "metadata": {},
   "source": [
    "## MNIST dataset using Stacked Autoencoders\n",
    "\n",
    "In this notebook, I will be using Stacked Autoencoders on MNIST dataset. I will train the model using mnist dataset and then visualize the test results so that we can see how well the autoencoder has learned to represent the input data. "
   ]
  },
  {
   "cell_type": "markdown",
   "metadata": {},
   "source": [
    "### Basic Imports "
   ]
  },
  {
   "cell_type": "code",
   "execution_count": 1,
   "metadata": {},
   "outputs": [],
   "source": [
    "import numpy as np\n",
    "import matplotlib.pyplot as plt\n",
    "import tensorflow as tf"
   ]
  },
  {
   "cell_type": "markdown",
   "metadata": {},
   "source": [
    "### Loading the data "
   ]
  },
  {
   "cell_type": "code",
   "execution_count": 2,
   "metadata": {
    "collapsed": true
   },
   "outputs": [
    {
     "name": "stdout",
     "output_type": "stream",
     "text": [
      "WARNING:tensorflow:From C:\\Users\\Ambarish\\Anaconda3\\envs\\gpu\\lib\\site-packages\\tensorflow\\contrib\\learn\\python\\learn\\datasets\\base.py:198: retry (from tensorflow.contrib.learn.python.learn.datasets.base) is deprecated and will be removed in a future version.\n",
      "Instructions for updating:\n",
      "Use the retry module or similar alternatives.\n"
     ]
    }
   ],
   "source": [
    "from tensorflow.examples.tutorials.mnist import input_data"
   ]
  },
  {
   "cell_type": "code",
   "execution_count": 3,
   "metadata": {
    "collapsed": true
   },
   "outputs": [
    {
     "name": "stdout",
     "output_type": "stream",
     "text": [
      "WARNING:tensorflow:From <ipython-input-3-d08c12c637be>:1: read_data_sets (from tensorflow.contrib.learn.python.learn.datasets.mnist) is deprecated and will be removed in a future version.\n",
      "Instructions for updating:\n",
      "Please use alternatives such as official/mnist/dataset.py from tensorflow/models.\n",
      "WARNING:tensorflow:From C:\\Users\\Ambarish\\Anaconda3\\envs\\gpu\\lib\\site-packages\\tensorflow\\contrib\\learn\\python\\learn\\datasets\\mnist.py:260: maybe_download (from tensorflow.contrib.learn.python.learn.datasets.base) is deprecated and will be removed in a future version.\n",
      "Instructions for updating:\n",
      "Please write your own downloading logic.\n",
      "WARNING:tensorflow:From C:\\Users\\Ambarish\\Anaconda3\\envs\\gpu\\lib\\site-packages\\tensorflow\\contrib\\learn\\python\\learn\\datasets\\mnist.py:262: extract_images (from tensorflow.contrib.learn.python.learn.datasets.mnist) is deprecated and will be removed in a future version.\n",
      "Instructions for updating:\n",
      "Please use tf.data to implement this functionality.\n",
      "Extracting MNIST_data/train-images-idx3-ubyte.gz\n",
      "WARNING:tensorflow:From C:\\Users\\Ambarish\\Anaconda3\\envs\\gpu\\lib\\site-packages\\tensorflow\\contrib\\learn\\python\\learn\\datasets\\mnist.py:267: extract_labels (from tensorflow.contrib.learn.python.learn.datasets.mnist) is deprecated and will be removed in a future version.\n",
      "Instructions for updating:\n",
      "Please use tf.data to implement this functionality.\n",
      "Extracting MNIST_data/train-labels-idx1-ubyte.gz\n",
      "WARNING:tensorflow:From C:\\Users\\Ambarish\\Anaconda3\\envs\\gpu\\lib\\site-packages\\tensorflow\\contrib\\learn\\python\\learn\\datasets\\mnist.py:110: dense_to_one_hot (from tensorflow.contrib.learn.python.learn.datasets.mnist) is deprecated and will be removed in a future version.\n",
      "Instructions for updating:\n",
      "Please use tf.one_hot on tensors.\n",
      "Extracting MNIST_data/t10k-images-idx3-ubyte.gz\n",
      "Extracting MNIST_data/t10k-labels-idx1-ubyte.gz\n",
      "WARNING:tensorflow:From C:\\Users\\Ambarish\\Anaconda3\\envs\\gpu\\lib\\site-packages\\tensorflow\\contrib\\learn\\python\\learn\\datasets\\mnist.py:290: DataSet.__init__ (from tensorflow.contrib.learn.python.learn.datasets.mnist) is deprecated and will be removed in a future version.\n",
      "Instructions for updating:\n",
      "Please use alternatives such as official/mnist/dataset.py from tensorflow/models.\n"
     ]
    }
   ],
   "source": [
    "mnist = input_data.read_data_sets('MNIST_data/',one_hot=True)"
   ]
  },
  {
   "cell_type": "markdown",
   "metadata": {},
   "source": [
    "### Constants \n",
    "\n",
    "I am trying to reduce the input features dimension by half."
   ]
  },
  {
   "cell_type": "code",
   "execution_count": 4,
   "metadata": {},
   "outputs": [],
   "source": [
    "input_dim = 784   # 28*28\n",
    "hidden_dim_1 = 392 \n",
    "hidden_dim_2 = 196\n",
    "hidden_dim_3 = hidden_dim_1 # Decoder Begins\n",
    "output_dim = input_dim\n",
    "learning_rate = 0.01\n",
    "\n",
    "num_of_epochs = 10\n",
    "batch_size = 128"
   ]
  },
  {
   "cell_type": "markdown",
   "metadata": {},
   "source": [
    "### Placeholder\n",
    "\n",
    "Not targer placeholder here"
   ]
  },
  {
   "cell_type": "code",
   "execution_count": 5,
   "metadata": {},
   "outputs": [],
   "source": [
    "X = tf.placeholder(tf.float32, shape=[None, input_dim])"
   ]
  },
  {
   "cell_type": "markdown",
   "metadata": {},
   "source": [
    "### Weights "
   ]
  },
  {
   "cell_type": "code",
   "execution_count": 6,
   "metadata": {},
   "outputs": [],
   "source": [
    "initializer = tf.variance_scaling_initializer()\n",
    "\n",
    "# Initializer capable of adapting its scale to the shape of weights tensors."
   ]
  },
  {
   "cell_type": "code",
   "execution_count": 7,
   "metadata": {},
   "outputs": [],
   "source": [
    "# normally we would use tf.variables_initializer but here, \n",
    "# since we are initializing our variables with tf.variance_scaling_initializer() we will just use tf.Variable\n",
    "\n",
    "w1 = tf.Variable(initializer(shape=[input_dim,hidden_dim_1],dtype=tf.float32))\n",
    "w2 = tf.Variable(initializer(shape=[hidden_dim_1,hidden_dim_2],dtype=tf.float32))\n",
    "w3 = tf.Variable(initializer(shape=[hidden_dim_2,hidden_dim_3],dtype=tf.float32))\n",
    "w4 = tf.Variable(initializer(shape=[hidden_dim_3,output_dim],dtype=tf.float32))"
   ]
  },
  {
   "cell_type": "markdown",
   "metadata": {},
   "source": [
    "### Biases "
   ]
  },
  {
   "cell_type": "code",
   "execution_count": 8,
   "metadata": {},
   "outputs": [],
   "source": [
    "b1 = tf.Variable(tf.zeros(hidden_dim_1))\n",
    "b2 = tf.Variable(tf.zeros(hidden_dim_2))\n",
    "b3 = tf.Variable(tf.zeros(hidden_dim_3))\n",
    "b4 = tf.Variable(tf.zeros(output_dim))"
   ]
  },
  {
   "cell_type": "markdown",
   "metadata": {},
   "source": [
    "### Activation Function and Layers"
   ]
  },
  {
   "cell_type": "code",
   "execution_count": 9,
   "metadata": {},
   "outputs": [],
   "source": [
    "act_func = tf.nn.relu"
   ]
  },
  {
   "cell_type": "code",
   "execution_count": 10,
   "metadata": {},
   "outputs": [],
   "source": [
    "hidd_layer_1 = act_func(tf.matmul(X,w1) + b1)\n",
    "hidd_layer_2 = act_func(tf.matmul(hidd_layer_1,w2) + b2)\n",
    "hidd_layer_3 = act_func(tf.matmul(hidd_layer_2,w3) + b3)\n",
    "output_layer = tf.matmul(hidd_layer_3 ,w4) + b4"
   ]
  },
  {
   "cell_type": "markdown",
   "metadata": {},
   "source": [
    "### Loss Function"
   ]
  },
  {
   "cell_type": "code",
   "execution_count": 11,
   "metadata": {},
   "outputs": [],
   "source": [
    "loss = tf.reduce_mean(tf.square(output_layer - X))"
   ]
  },
  {
   "cell_type": "markdown",
   "metadata": {},
   "source": [
    "### Optimizer"
   ]
  },
  {
   "cell_type": "code",
   "execution_count": 12,
   "metadata": {},
   "outputs": [],
   "source": [
    "Optimizer = tf.train.AdamOptimizer(learning_rate= learning_rate)"
   ]
  },
  {
   "cell_type": "code",
   "execution_count": 13,
   "metadata": {},
   "outputs": [],
   "source": [
    "train = Optimizer.minimize(loss)"
   ]
  },
  {
   "cell_type": "markdown",
   "metadata": {},
   "source": [
    "### Intialize Variables"
   ]
  },
  {
   "cell_type": "code",
   "execution_count": 14,
   "metadata": {},
   "outputs": [],
   "source": [
    "init = tf.global_variables_initializer()"
   ]
  },
  {
   "cell_type": "code",
   "execution_count": 15,
   "metadata": {},
   "outputs": [],
   "source": [
    "saver = tf.train.Saver() "
   ]
  },
  {
   "cell_type": "markdown",
   "metadata": {},
   "source": [
    "### Train Session "
   ]
  },
  {
   "cell_type": "code",
   "execution_count": 16,
   "metadata": {},
   "outputs": [
    {
     "name": "stdout",
     "output_type": "stream",
     "text": [
      "Epoch number 0 : Training Loss: 0.03440579026937485\n",
      "Epoch number 1 : Training Loss: 0.02923300489783287\n",
      "Epoch number 2 : Training Loss: 0.02851727046072483\n",
      "Epoch number 3 : Training Loss: 0.026299061253666878\n",
      "Epoch number 4 : Training Loss: 0.02564135380089283\n",
      "Epoch number 5 : Training Loss: 0.025749804452061653\n",
      "Epoch number 6 : Training Loss: 0.027425765991210938\n",
      "Epoch number 7 : Training Loss: 0.027142154052853584\n",
      "Epoch number 8 : Training Loss: 0.025928083807229996\n",
      "Epoch number 9 : Training Loss: 0.02650575339794159\n"
     ]
    }
   ],
   "source": [
    "with tf.Session() as sess:\n",
    "    \n",
    "    sess.run(init)\n",
    "    \n",
    "    for epoch in range(num_of_epochs):\n",
    "        \n",
    "        num_of_batches = mnist.train.num_examples // batch_size\n",
    "        \n",
    "        for i in range(num_of_batches):\n",
    "            \n",
    "            X_batch, y_batch = mnist.train.next_batch(batch_size)\n",
    "            \n",
    "            sess.run(train, feed_dict={X: X_batch})\n",
    "            \n",
    "        training_loss = loss.eval(feed_dict={X: X_batch}) \n",
    "        \n",
    "        print(\"Epoch number {} : Training Loss: {}\".format(epoch,training_loss))\n",
    "    \n",
    "    saver.save(sess, \"./stacked_autoencoder_mnist\")    \n"
   ]
  },
  {
   "cell_type": "markdown",
   "metadata": {},
   "source": [
    "### Testing and Visualizing Autoencoder representations "
   ]
  },
  {
   "cell_type": "code",
   "execution_count": 17,
   "metadata": {},
   "outputs": [],
   "source": [
    "num_of_test_images = 10"
   ]
  },
  {
   "cell_type": "code",
   "execution_count": 18,
   "metadata": {},
   "outputs": [
    {
     "name": "stdout",
     "output_type": "stream",
     "text": [
      "INFO:tensorflow:Restoring parameters from ./stacked_autoencoder_mnist\n"
     ]
    }
   ],
   "source": [
    "with tf.Session() as sess:\n",
    "    \n",
    "    saver.restore(sess,\"./stacked_autoencoder_mnist\")\n",
    "    \n",
    "    test_result = output_layer.eval(feed_dict={X:mnist.test.images[:num_of_test_images]})"
   ]
  },
  {
   "cell_type": "code",
   "execution_count": 19,
   "metadata": {},
   "outputs": [
    {
     "data": {
      "image/png": "[encoded data removed]",
      "text/plain": [
       "<Figure size 1080x360 with 20 Axes>"
      ]
     },
     "metadata": {},
     "output_type": "display_data"
    }
   ],
   "source": [
    "b,c = plt.subplots(nrows=2,ncols=10,figsize=(15, 5))\n",
    "\n",
    "for i in range(num_of_test_images):\n",
    "    \n",
    "    c[0][i].imshow(np.reshape(mnist.test.images[i], (28, 28)))\n",
    "    c[1][i].imshow(np.reshape(test_result[i],(28,28)))"
   ]
  },
  {
   "cell_type": "code",
   "execution_count": null,
   "metadata": {},
   "outputs": [],
   "source": []
  }
 ],
 "metadata": {
  "kernelspec": {
   "display_name": "Python 3",
   "language": "python",
   "name": "python3"
  },
  "language_info": {
   "codemirror_mode": {
    "name": "ipython",
    "version": 3
   },
   "file_extension": ".py",
   "mimetype": "text/x-python",
   "name": "python",
   "nbconvert_exporter": "python",
   "pygments_lexer": "ipython3",
   "version": "3.6.5"
  }
 },
 "nbformat": 4,
 "nbformat_minor": 2
}
